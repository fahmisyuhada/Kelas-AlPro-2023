{
 "cells": [
  {
   "cell_type": "markdown",
   "id": "367fb533",
   "metadata": {},
   "source": [
    "# Membuat List"
   ]
  },
  {
   "cell_type": "code",
   "execution_count": 12,
   "id": "738a8ea1",
   "metadata": {},
   "outputs": [
    {
     "name": "stdout",
     "output_type": "stream",
     "text": [
      "[90, 20, 30, 40, 75]\n",
      "['Agus', 'Budi', 'Cici']\n"
     ]
    }
   ],
   "source": [
    "nilai = [90,20,30,40,75]\n",
    "mahasiswa = [\"Agus\", \"Budi\", \"Cici\"]\n",
    "mahasiswa2 = [\"Zaki\", \"Yuli\"]\n",
    "print(nilai)\n",
    "print(mahasiswa)"
   ]
  },
  {
   "cell_type": "markdown",
   "id": "3faf5289",
   "metadata": {},
   "source": [
    "# Fungsi append(element) : untuk menambahkan item list"
   ]
  },
  {
   "cell_type": "code",
   "execution_count": 13,
   "id": "3c167625",
   "metadata": {},
   "outputs": [
    {
     "name": "stdout",
     "output_type": "stream",
     "text": [
      "[90, 20, 30, 40, 75, 99]\n",
      "['Agus', 'Budi', 'Cici', 'Doni']\n"
     ]
    }
   ],
   "source": [
    "nilai.append(99)\n",
    "mahasiswa.append(\"Doni\")\n",
    "print(nilai)\n",
    "print(mahasiswa)"
   ]
  },
  {
   "cell_type": "code",
   "execution_count": 7,
   "id": "bc7db92d",
   "metadata": {
    "scrolled": true
   },
   "outputs": [
    {
     "data": {
      "text/plain": [
       "['Agus', 'Budi', 'Cici', 'Zaki', 'Yuli']"
      ]
     },
     "execution_count": 7,
     "metadata": {},
     "output_type": "execute_result"
    }
   ],
   "source": [
    "mahasiswa+mahasiswa2"
   ]
  },
  {
   "cell_type": "markdown",
   "id": "45d63fb7",
   "metadata": {},
   "source": [
    "# Fungsi Extend : Menggabungkan dua list"
   ]
  },
  {
   "cell_type": "code",
   "execution_count": 14,
   "id": "e95041c8",
   "metadata": {},
   "outputs": [
    {
     "name": "stdout",
     "output_type": "stream",
     "text": [
      "['Agus', 'Budi', 'Cici', 'Doni', 'Zaki', 'Yuli']\n"
     ]
    }
   ],
   "source": [
    "mahasiswa.extend(mahasiswa2)\n",
    "print(mahasiswa)"
   ]
  },
  {
   "cell_type": "markdown",
   "id": "e9c1868e",
   "metadata": {},
   "source": [
    "# Fungsi Insert : Menambahkan Item berdasarkan Index"
   ]
  },
  {
   "cell_type": "code",
   "execution_count": 26,
   "id": "1f7186d1",
   "metadata": {},
   "outputs": [
    {
     "name": "stdout",
     "output_type": "stream",
     "text": [
      "['Agus', 'Budi', 'Cici', 'Doni', 'Zaki', 'Heri', 'Indah']\n"
     ]
    }
   ],
   "source": [
    "mahasiswa.insert(9,\"Indah\")\n",
    "print(mahasiswa)"
   ]
  },
  {
   "cell_type": "code",
   "execution_count": 16,
   "id": "398fb410",
   "metadata": {},
   "outputs": [],
   "source": [
    "mahasiswa.insert(5,\"Wangi\")"
   ]
  },
  {
   "cell_type": "code",
   "execution_count": 17,
   "id": "557659b8",
   "metadata": {},
   "outputs": [
    {
     "name": "stdout",
     "output_type": "stream",
     "text": [
      "['Agus', 'Budi', 'Cici', 'Eka', 'Doni', 'Wangi', 'Zaki', 'Yuli']\n"
     ]
    }
   ],
   "source": [
    "print(mahasiswa)"
   ]
  },
  {
   "cell_type": "markdown",
   "id": "9d4f20bc",
   "metadata": {},
   "source": [
    "# Fungsi Pop : menghapus item list"
   ]
  },
  {
   "cell_type": "code",
   "execution_count": 18,
   "id": "33173557",
   "metadata": {},
   "outputs": [
    {
     "name": "stdout",
     "output_type": "stream",
     "text": [
      "['Agus', 'Budi', 'Cici', 'Eka', 'Doni', 'Wangi', 'Zaki']\n"
     ]
    }
   ],
   "source": [
    "mahasiswa.pop()\n",
    "print(mahasiswa)"
   ]
  },
  {
   "cell_type": "code",
   "execution_count": 19,
   "id": "76d28d19",
   "metadata": {},
   "outputs": [
    {
     "name": "stdout",
     "output_type": "stream",
     "text": [
      "['Agus', 'Budi', 'Cici', 'Doni', 'Wangi', 'Zaki']\n"
     ]
    }
   ],
   "source": [
    "mahasiswa.pop(3)\n",
    "print(mahasiswa)"
   ]
  },
  {
   "cell_type": "code",
   "execution_count": 20,
   "id": "43e755d2",
   "metadata": {},
   "outputs": [
    {
     "name": "stdout",
     "output_type": "stream",
     "text": [
      "['Agus', 'Budi', 'Cici', 'Doni', 'Zaki']\n"
     ]
    }
   ],
   "source": [
    "mahasiswa.pop(4)\n",
    "print(mahasiswa)"
   ]
  },
  {
   "cell_type": "markdown",
   "id": "1d0a92e2",
   "metadata": {},
   "source": [
    "# Mencari data di list / Searching item in list"
   ]
  },
  {
   "cell_type": "code",
   "execution_count": 29,
   "id": "587c31ad",
   "metadata": {},
   "outputs": [
    {
     "name": "stdout",
     "output_type": "stream",
     "text": [
      "Mahasiswa ditemukan\n",
      "Heri Berada pada index 5\n"
     ]
    }
   ],
   "source": [
    "target = \"Heri\"\n",
    "if target in mahasiswa:\n",
    "    print(\"Mahasiswa ditemukan\")\n",
    "    print(target + \" Berada pada index\", end=\" \")\n",
    "    print(mahasiswa.index(target))\n",
    "else:\n",
    "    print(\"mahasiswa tidak ditemukan\")"
   ]
  },
  {
   "cell_type": "markdown",
   "id": "9ef4e1c9",
   "metadata": {},
   "source": [
    "# Sorting List Items / Mengurutkan data"
   ]
  },
  {
   "cell_type": "code",
   "execution_count": 30,
   "id": "9091e9cd",
   "metadata": {},
   "outputs": [
    {
     "name": "stdout",
     "output_type": "stream",
     "text": [
      "[90, 20, 30, 40, 75, 99]\n"
     ]
    }
   ],
   "source": [
    "print(nilai)"
   ]
  },
  {
   "cell_type": "code",
   "execution_count": 31,
   "id": "2c60bc22",
   "metadata": {},
   "outputs": [
    {
     "name": "stdout",
     "output_type": "stream",
     "text": [
      "[20, 30, 40, 75, 90, 99]\n"
     ]
    }
   ],
   "source": [
    "nilai.sort()\n",
    "print(nilai)"
   ]
  },
  {
   "cell_type": "code",
   "execution_count": 32,
   "id": "c022fd6a",
   "metadata": {},
   "outputs": [
    {
     "name": "stdout",
     "output_type": "stream",
     "text": [
      "['Agus', 'Budi', 'Cici', 'Doni', 'Zaki', 'Heri', 'Indah']\n"
     ]
    }
   ],
   "source": [
    "print(mahasiswa)"
   ]
  },
  {
   "cell_type": "code",
   "execution_count": 33,
   "id": "9d46ddae",
   "metadata": {},
   "outputs": [
    {
     "name": "stdout",
     "output_type": "stream",
     "text": [
      "['Agus', 'Budi', 'Cici', 'Doni', 'Heri', 'Indah', 'Zaki']\n"
     ]
    }
   ],
   "source": [
    "mahasiswa.sort()\n",
    "print(mahasiswa)"
   ]
  },
  {
   "cell_type": "markdown",
   "id": "c85e2a43",
   "metadata": {},
   "source": [
    "# Mencari nilai Mean (Rata-rata), Modus, Median dari list"
   ]
  },
  {
   "cell_type": "code",
   "execution_count": 50,
   "id": "6eb42804",
   "metadata": {},
   "outputs": [
    {
     "name": "stdout",
     "output_type": "stream",
     "text": [
      "[3, 4, 5, 1, 7, 2]\n"
     ]
    }
   ],
   "source": [
    "angka = [3,4,5,1,7,2]\n",
    "print(angka)"
   ]
  },
  {
   "cell_type": "markdown",
   "id": "a87642eb",
   "metadata": {},
   "source": [
    "# # Mencari Nilai Rata-Rata"
   ]
  },
  {
   "cell_type": "code",
   "execution_count": 51,
   "id": "795c1025",
   "metadata": {},
   "outputs": [
    {
     "name": "stdout",
     "output_type": "stream",
     "text": [
      "3.6666666666666665\n"
     ]
    }
   ],
   "source": [
    "jumlah = 0\n",
    "for i in range(0,len(angka)):\n",
    "    jumlah = jumlah + angka[i]\n",
    "\n",
    "mean = jumlah/len(angka)\n",
    "print(mean)"
   ]
  },
  {
   "cell_type": "markdown",
   "id": "ef0a53f4",
   "metadata": {},
   "source": [
    "# Median"
   ]
  },
  {
   "cell_type": "code",
   "execution_count": 52,
   "id": "0cce1337",
   "metadata": {},
   "outputs": [
    {
     "name": "stdout",
     "output_type": "stream",
     "text": [
      "3\n"
     ]
    }
   ],
   "source": [
    "#jika jumlah data bernilai ganjil\n",
    "index_tengah = (len(angka)-1)/2\n",
    "angka.sort()\n",
    "print(angka[int(index_tengah)])"
   ]
  },
  {
   "cell_type": "code",
   "execution_count": 56,
   "id": "5737898c",
   "metadata": {
    "collapsed": true
   },
   "outputs": [
    {
     "name": "stdout",
     "output_type": "stream",
     "text": [
      "3.5\n"
     ]
    }
   ],
   "source": [
    "#jika jumlah data bernilai ganjil\n",
    "index_tengah = (len(angka)-1)/2\n",
    "angka.sort()\n",
    "median  = (angka[int(index_tengah)]+angka[int(index_tengah)+1])/2\n",
    "print(median)"
   ]
  },
  {
   "cell_type": "markdown",
   "id": "63793d65",
   "metadata": {},
   "source": [
    "data = [5,3,7]"
   ]
  },
  {
   "cell_type": "code",
   "execution_count": 57,
   "id": "c9064768",
   "metadata": {},
   "outputs": [],
   "source": [
    "data = [5,3,7]"
   ]
  },
  {
   "cell_type": "code",
   "execution_count": 58,
   "id": "f9c28e7b",
   "metadata": {},
   "outputs": [
    {
     "data": {
      "text/plain": [
       "False"
      ]
     },
     "execution_count": 58,
     "metadata": {},
     "output_type": "execute_result"
    }
   ],
   "source": [
    "0 in data"
   ]
  },
  {
   "cell_type": "code",
   "execution_count": 60,
   "id": "09a9f858",
   "metadata": {},
   "outputs": [
    {
     "name": "stdout",
     "output_type": "stream",
     "text": [
      "[5, 3, 7, 2, 10, 5]\n"
     ]
    }
   ],
   "source": [
    "data = data + [2, 10, 5]\n",
    "print(data)"
   ]
  },
  {
   "cell_type": "markdown",
   "id": "0d3c54ab",
   "metadata": {},
   "source": [
    "# Fungsi Sederhana"
   ]
  },
  {
   "cell_type": "code",
   "execution_count": 66,
   "id": "67ccdcc6",
   "metadata": {},
   "outputs": [],
   "source": [
    "def mahasiswa():\n",
    "    print(\"Anggun\")\n",
    "    print(\"Kartika\")\n",
    "    print(\"Wangi\")\n",
    "    print(1+1)\n",
    "    angka = 10\n",
    "    hasil = angka/2\n",
    "    print(hasil)"
   ]
  },
  {
   "cell_type": "code",
   "execution_count": 64,
   "id": "7549caf3",
   "metadata": {},
   "outputs": [
    {
     "name": "stdout",
     "output_type": "stream",
     "text": [
      "Anggun\n",
      "Kartika\n",
      "Wangi\n"
     ]
    }
   ],
   "source": [
    "mahasiswa()"
   ]
  },
  {
   "cell_type": "code",
   "execution_count": 67,
   "id": "71cd131a",
   "metadata": {},
   "outputs": [
    {
     "name": "stdout",
     "output_type": "stream",
     "text": [
      "Anggun\n",
      "Kartika\n",
      "Wangi\n",
      "2\n",
      "5.0\n"
     ]
    }
   ],
   "source": [
    "mahasiswa()"
   ]
  },
  {
   "cell_type": "code",
   "execution_count": 68,
   "id": "4a34f00a",
   "metadata": {},
   "outputs": [],
   "source": [
    "def tampilkan_mahasiswa(nama):\n",
    "    print(nama)"
   ]
  },
  {
   "cell_type": "code",
   "execution_count": 69,
   "id": "93638f26",
   "metadata": {},
   "outputs": [
    {
     "name": "stdout",
     "output_type": "stream",
     "text": [
      "Jupri\n"
     ]
    }
   ],
   "source": [
    "tampilkan_mahasiswa(\"Jupri\")"
   ]
  },
  {
   "cell_type": "code",
   "execution_count": 71,
   "id": "8190fae5",
   "metadata": {},
   "outputs": [],
   "source": [
    "def penjumlahan(nilai1, nilai2):\n",
    "    hasil = nilai1+nilai2\n",
    "    print(hasil)"
   ]
  },
  {
   "cell_type": "code",
   "execution_count": 72,
   "id": "7f427e49",
   "metadata": {},
   "outputs": [
    {
     "name": "stdout",
     "output_type": "stream",
     "text": [
      "112\n"
     ]
    }
   ],
   "source": [
    "penjumlahan(22,90)"
   ]
  },
  {
   "cell_type": "code",
   "execution_count": 74,
   "id": "4f783272",
   "metadata": {},
   "outputs": [
    {
     "ename": "ImportError",
     "evalue": "cannot import name 'square' from 'math' (unknown location)",
     "output_type": "error",
     "traceback": [
      "\u001b[1;31m---------------------------------------------------------------------------\u001b[0m",
      "\u001b[1;31mImportError\u001b[0m                               Traceback (most recent call last)",
      "Cell \u001b[1;32mIn[74], line 1\u001b[0m\n\u001b[1;32m----> 1\u001b[0m \u001b[38;5;28;01mfrom\u001b[39;00m \u001b[38;5;21;01mmath\u001b[39;00m \u001b[38;5;28;01mimport\u001b[39;00m square\n\u001b[0;32m      2\u001b[0m square(\u001b[38;5;241m2\u001b[39m)\n",
      "\u001b[1;31mImportError\u001b[0m: cannot import name 'square' from 'math' (unknown location)"
     ]
    }
   ],
   "source": [
    "from math import square\n",
    "square(2)"
   ]
  },
  {
   "cell_type": "code",
   "execution_count": null,
   "id": "d7178df2",
   "metadata": {},
   "outputs": [],
   "source": []
  }
 ],
 "metadata": {
  "kernelspec": {
   "display_name": "Python 3 (ipykernel)",
   "language": "python",
   "name": "python3"
  },
  "language_info": {
   "codemirror_mode": {
    "name": "ipython",
    "version": 3
   },
   "file_extension": ".py",
   "mimetype": "text/x-python",
   "name": "python",
   "nbconvert_exporter": "python",
   "pygments_lexer": "ipython3",
   "version": "3.11.4"
  }
 },
 "nbformat": 4,
 "nbformat_minor": 5
}
