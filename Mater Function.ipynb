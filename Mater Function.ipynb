{
 "cells": [
  {
   "cell_type": "markdown",
   "id": "92d921bc",
   "metadata": {},
   "source": [
    "# Function\n",
    "\n",
    "cara tradisional ketika akan menjalankan kumpulan perintah"
   ]
  },
  {
   "cell_type": "code",
   "execution_count": 3,
   "id": "16daef9f",
   "metadata": {},
   "outputs": [
    {
     "name": "stdout",
     "output_type": "stream",
     "text": [
      "Menu ATM UNIQHBA\n",
      "1. Penarikan\n",
      "2. Nabung\n",
      "3. Cek Saldo\n"
     ]
    }
   ],
   "source": [
    "print(\"Menu ATM UNIQHBA\")\n",
    "print(\"1. Penarikan\")\n",
    "print(\"2. Nabung\")\n",
    "print(\"3. Cek Saldo\")"
   ]
  },
  {
   "cell_type": "code",
   "execution_count": 6,
   "id": "bf3b2359",
   "metadata": {},
   "outputs": [
    {
     "name": "stdout",
     "output_type": "stream",
     "text": [
      "Menu ATM UNIQHBA\n",
      "1. Penarikan\n",
      "2. Nabung\n",
      "3. Cek Saldo\n"
     ]
    }
   ],
   "source": [
    "print(\"Menu ATM UNIQHBA\")\n",
    "print(\"1. Penarikan\")\n",
    "print(\"2. Nabung\")\n",
    "print(\"3. Cek Saldo\")"
   ]
  },
  {
   "cell_type": "markdown",
   "id": "ac1e5cdc",
   "metadata": {},
   "source": [
    "A function is a block of code which only runs when it is called.\n",
    "# Creating a Function\n",
    "In Python a function is defined using the <b>def</b> keyword:"
   ]
  },
  {
   "cell_type": "code",
   "execution_count": 7,
   "id": "fa1615bf",
   "metadata": {},
   "outputs": [],
   "source": [
    "def menu():\n",
    "    print(\"Menu ATM UNIQHBA\")\n",
    "    print(\"Hallo Mahasiswa\")\n",
    "    print(\"1. Penarikan\")\n",
    "    print(\"2. Nabung\")\n",
    "    print(\"3. Cek Saldo\")"
   ]
  },
  {
   "cell_type": "markdown",
   "id": "f751a9a2",
   "metadata": {},
   "source": [
    "# Calling a Function\n",
    "To call a function, use the function name followed by parenthesis:"
   ]
  },
  {
   "cell_type": "code",
   "execution_count": 8,
   "id": "df371572",
   "metadata": {},
   "outputs": [
    {
     "name": "stdout",
     "output_type": "stream",
     "text": [
      "Menu ATM UNIQHBA\n",
      "1. Penarikan\n",
      "2. Nabung\n",
      "3. Cek Saldo\n"
     ]
    }
   ],
   "source": [
    "menu()"
   ]
  },
  {
   "cell_type": "code",
   "execution_count": 9,
   "id": "14f15f48",
   "metadata": {},
   "outputs": [
    {
     "name": "stdout",
     "output_type": "stream",
     "text": [
      "Menu ATM UNIQHBA\n",
      "1. Penarikan\n",
      "2. Nabung\n",
      "3. Cek Saldo\n"
     ]
    }
   ],
   "source": [
    "menu()"
   ]
  },
  {
   "cell_type": "markdown",
   "id": "96ec68ef",
   "metadata": {},
   "source": [
    "# Parameter\n",
    "paramer adalah variabel pada fungsi yang digunakan untuk mengirim data ketika fungsi tersebut dipanggil"
   ]
  },
  {
   "cell_type": "code",
   "execution_count": 17,
   "id": "9ac6a61c",
   "metadata": {},
   "outputs": [
    {
     "name": "stdout",
     "output_type": "stream",
     "text": [
      "1200\n",
      "40000\n"
     ]
    }
   ],
   "source": [
    "panjang = 30\n",
    "lebar = 40\n",
    "hasil = panjang*lebar\n",
    "print(hasil)\n",
    "\n",
    "panjang = 100\n",
    "lebar = 400\n",
    "hasil = panjang*lebar\n",
    "print(hasil)"
   ]
  },
  {
   "cell_type": "code",
   "execution_count": 35,
   "id": "ac038bff",
   "metadata": {},
   "outputs": [],
   "source": [
    "def hitung_persegi_panjang(panjang = 10, lebar=5):\n",
    "    hasil = panjang*lebar\n",
    "    print(hasil)"
   ]
  },
  {
   "cell_type": "code",
   "execution_count": 36,
   "id": "13edbc3e",
   "metadata": {},
   "outputs": [
    {
     "name": "stdout",
     "output_type": "stream",
     "text": [
      "1200\n",
      "40000\n",
      "1000\n"
     ]
    }
   ],
   "source": [
    "hitung_persegi_panjang(30,40)\n",
    "hitung_persegi_panjang(100,400)\n",
    "hitung_persegi_panjang(lebar = 100)"
   ]
  },
  {
   "cell_type": "code",
   "execution_count": 20,
   "id": "d45890a0",
   "metadata": {},
   "outputs": [],
   "source": [
    "def hitung_luas_lingkaran(jari):\n",
    "    luas = 3.14 * jari * jari\n",
    "    print(luas)"
   ]
  },
  {
   "cell_type": "code",
   "execution_count": 21,
   "id": "6e058a64",
   "metadata": {},
   "outputs": [
    {
     "name": "stdout",
     "output_type": "stream",
     "text": [
      "314.0\n",
      "706.5\n"
     ]
    }
   ],
   "source": [
    "hitung_luas_lingkaran(10)\n",
    "hitung_luas_lingkaran(15)"
   ]
  },
  {
   "cell_type": "code",
   "execution_count": 22,
   "id": "10210eac",
   "metadata": {},
   "outputs": [],
   "source": [
    "def akun(username, password):\n",
    "    if(username == \"admin\" and password == \"123\"):\n",
    "        print(\"Selamat datang di atm bagu\")\n",
    "    else:\n",
    "        print(\"username atau password salah\")"
   ]
  },
  {
   "cell_type": "code",
   "execution_count": 23,
   "id": "dd9ec251",
   "metadata": {},
   "outputs": [
    {
     "name": "stdout",
     "output_type": "stream",
     "text": [
      "Selamat datang di atm bagu\n"
     ]
    }
   ],
   "source": [
    "akun(\"admin\", \"123\")"
   ]
  },
  {
   "cell_type": "code",
   "execution_count": 24,
   "id": "64e312aa",
   "metadata": {},
   "outputs": [
    {
     "name": "stdout",
     "output_type": "stream",
     "text": [
      "username atau password salah\n"
     ]
    }
   ],
   "source": [
    "akun(\"saya\", \"123\")"
   ]
  },
  {
   "cell_type": "code",
   "execution_count": 31,
   "id": "72676f9a",
   "metadata": {},
   "outputs": [],
   "source": [
    "def hitung_faktorial(x=1):\n",
    "    total = 1\n",
    "    for i in range(1,x+1):\n",
    "        total = total*i\n",
    "    print(total)"
   ]
  },
  {
   "cell_type": "code",
   "execution_count": 26,
   "id": "b5d787a4",
   "metadata": {},
   "outputs": [
    {
     "name": "stdout",
     "output_type": "stream",
     "text": [
      "24\n"
     ]
    }
   ],
   "source": [
    "hitung_faktorial(4)"
   ]
  },
  {
   "cell_type": "code",
   "execution_count": 28,
   "id": "01b78593",
   "metadata": {},
   "outputs": [
    {
     "name": "stdout",
     "output_type": "stream",
     "text": [
      "362880\n"
     ]
    }
   ],
   "source": [
    "hitung_faktorial(9)"
   ]
  },
  {
   "cell_type": "code",
   "execution_count": 32,
   "id": "e65a3abd",
   "metadata": {},
   "outputs": [
    {
     "name": "stdout",
     "output_type": "stream",
     "text": [
      "1\n"
     ]
    }
   ],
   "source": [
    "hitung_faktorial()"
   ]
  },
  {
   "cell_type": "code",
   "execution_count": 38,
   "id": "7879895a",
   "metadata": {},
   "outputs": [],
   "source": [
    "def tampilkan_list(list):\n",
    "    print(list[0])\n",
    "\n"
   ]
  },
  {
   "cell_type": "code",
   "execution_count": 39,
   "id": "3d79637e",
   "metadata": {},
   "outputs": [
    {
     "name": "stdout",
     "output_type": "stream",
     "text": [
      "2\n"
     ]
    }
   ],
   "source": [
    "tampilkan_list([2,3,4])"
   ]
  },
  {
   "cell_type": "code",
   "execution_count": 40,
   "id": "77cba123",
   "metadata": {},
   "outputs": [
    {
     "name": "stdout",
     "output_type": "stream",
     "text": [
      "Andi\n"
     ]
    }
   ],
   "source": [
    "tampilkan_list([\"Andi\", \"Budi\", \"Cici\"])"
   ]
  },
  {
   "cell_type": "code",
   "execution_count": 42,
   "id": "39a346d5",
   "metadata": {},
   "outputs": [
    {
     "name": "stdout",
     "output_type": "stream",
     "text": [
      "B\n"
     ]
    }
   ],
   "source": [
    "tampilkan_list(\"Budiman\")"
   ]
  },
  {
   "cell_type": "code",
   "execution_count": null,
   "id": "52fdb3e0",
   "metadata": {},
   "outputs": [],
   "source": []
  },
  {
   "cell_type": "markdown",
   "id": "39efe7aa",
   "metadata": {},
   "source": [
    "# Latihan\n",
    "\n",
    "Buatlah fungsi untuk menghitung Volume Tabung\n",
    "rumus volume tabung = 3.14 * r * r * t"
   ]
  },
  {
   "cell_type": "code",
   "execution_count": 43,
   "id": "7830d314",
   "metadata": {},
   "outputs": [
    {
     "name": "stdout",
     "output_type": "stream",
     "text": [
      "volume tabung adalah: 37.68\n"
     ]
    }
   ],
   "source": [
    "def hitung_volume_tabung(r,t):\n",
    "    volume = 3.14*r*r*t\n",
    "    return volume\n",
    "radius = 2\n",
    "tinggi = 3\n",
    "hasil_volume = hitung_volume_tabung (radius,tinggi)\n",
    "print(\"volume tabung adalah:\",hasil_volume)\n"
   ]
  },
  {
   "cell_type": "markdown",
   "id": "02cb9247",
   "metadata": {},
   "source": [
    "# Tugas\n",
    "Buatlah program untuk menampilkan data dibawah ini dengan menerapkan list\n",
    "\n",
    "No | KODE_BARANG | NAMA_BARANG | JUMLAH STOK |\n",
    "\\=============================================\n",
    "1  | 001         | NARMADA     | 10          |\n",
    "2  | 002         | INDOMIE GRG | 50          |\n",
    "3  | 003         | BUKU        | 20          |\n",
    "4  | 004         | DANCOW      | 30          |\n",
    "\\=============================================\n",
    "\n",
    "BUATLAH FUNGSI UNTUK:\n",
    "- MENAMPILKAN STOK BARANG\n",
    "- MENAMBAH BARANG\n",
    "- MENGUPDATE STOK BARANG\n",
    "- MENGHAPUS BARANG"
   ]
  }
 ],
 "metadata": {
  "kernelspec": {
   "display_name": "Python 3 (ipykernel)",
   "language": "python",
   "name": "python3"
  },
  "language_info": {
   "codemirror_mode": {
    "name": "ipython",
    "version": 3
   },
   "file_extension": ".py",
   "mimetype": "text/x-python",
   "name": "python",
   "nbconvert_exporter": "python",
   "pygments_lexer": "ipython3",
   "version": "3.11.4"
  }
 },
 "nbformat": 4,
 "nbformat_minor": 5
}
