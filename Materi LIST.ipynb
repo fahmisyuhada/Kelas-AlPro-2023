{
 "cells": [
  {
   "cell_type": "code",
   "execution_count": 13,
   "id": "9630e892",
   "metadata": {},
   "outputs": [
    {
     "name": "stdout",
     "output_type": "stream",
     "text": [
      "Yudish\n",
      "['Indri', 'Anggun', 'Kartika', 'Eka', 'Silpie', 'Istianah', 'Lydia']\n",
      "[17, 20, 25, 29, 33]\n",
      "7\n",
      "[True, False, False, True, False]\n",
      "Kartika\n",
      "33\n",
      "33\n"
     ]
    },
    {
     "data": {
      "text/plain": [
       "'Lydia'"
      ]
     },
     "execution_count": 13,
     "metadata": {},
     "output_type": "execute_result"
    }
   ],
   "source": [
    "mahasiswa1 = \"Yudish\"\n",
    "print(mahasiswa1)\n",
    "mahasiswa2 = [\"Indri\", \"Anggun\", \"Kartika\", \"Eka\",\"Silpie\", \"Istianah\", \"Lydia\"] \n",
    "print(mahasiswa2)\n",
    "usia = [17, 20, 25, 29, 33] # memiliki urutan di proggram disebut dengn index\n",
    "print(usia)\n",
    "jumlahMahasiswa = len(mahasiswa2)\n",
    "print(jumlahMahasiswa)\n",
    "status = [True, False, False, True, False]\n",
    "print(status)\n",
    "print(mahasiswa2[2])\n",
    "print(usia[4])\n",
    "print(usia[-1])\n",
    "mahasiswa2[len(mahasiswa2)-1]"
   ]
  },
  {
   "cell_type": "code",
   "execution_count": 61,
   "id": "8321a6f6",
   "metadata": {},
   "outputs": [
    {
     "name": "stdout",
     "output_type": "stream",
     "text": [
      "['Indri', 'Anggun', 'Kartika', 'Yulia', 'Sylpie', 'Istianah', 'Lydia', 'Jumahir', 'Yudisthira', 'Multisa', 'Doni']\n",
      "0\t03\tIndri\tTrue\t160.6\n",
      "1\t04\tAnggun\tFalse\t150.9\n",
      "2\t05\tKartika\tFalse\t165.3\n",
      "3\t06\tYulia\tTrue\t160.6\n",
      "4\t07\tSylpie\tFalse\t150.9\n",
      "5\t08\tIstianah\tFalse\t165.3\n",
      "6\t09\tLydia\tTrue\t160.6\n",
      "7\t10\tJumahir\tFalse\t150.9\n",
      "8\t11\tYudisthira\tFalse\t165.3\n",
      "9\t12\tMultisa\tTrue\t160.6\n",
      "10\t13\tDoni\tFalse\t150.9\n"
     ]
    }
   ],
   "source": [
    "nim = [\"03\", \"04\", \"05\",\"06\",\"07\",\"08\",\"09\",\n",
    "       \"10\", \"11\",\"12\",\"13\"]\n",
    "nama = [\"Indri\", \"Anggun\", \"Kartika\", \"Eka\", \"Sylpie\", \n",
    "        \"Istianah\", \"Lydia\", \"Jumahir\", \"Yudisthira\", \n",
    "        \"Multisa\", \"Doni\"]\n",
    "usia = [17, 20, 25,29,33,14,16,40,35,33,27]\n",
    "status_perkawinan = [True, False, False, \n",
    "                    True, False, False,\n",
    "                    True, False, False,\n",
    "                    True, False]\n",
    "tinggi = [160.6, 150.9, 165.3, 160.6, 150.9, \n",
    "          165.3, 160.6, 150.9, 165.3, 160.6, \n",
    "          150.9]\n",
    "\n",
    "nama[3] = \"Yulia\"\n",
    "nim.append(\"14\")\n",
    "usia.append(11)\n",
    "status_perkawinan.append(False)\n",
    "tinggi.append(130)\n",
    "\n",
    "\n",
    "\n",
    "print(nama)\n",
    "\n",
    "len(nama)\n",
    "\n",
    "for i in range(0,len(nama)):\n",
    "    print(i , end=\"\\t\")\n",
    "    print(nim[i], end=\"\\t\")\n",
    "    print(nama[i], end=\"\\t\")\n",
    "    print(status_perkawinan[i], end=\"\\t\")\n",
    "    print(tinggi[i])\n",
    "\n"
   ]
  },
  {
   "cell_type": "code",
   "execution_count": 62,
   "id": "80d52332",
   "metadata": {},
   "outputs": [
    {
     "name": "stdout",
     "output_type": "stream",
     "text": [
      "7\t10\tJumahir\tFalse\t150.9\n"
     ]
    }
   ],
   "source": [
    "\n",
    "for i in range(nama.index(\"Jumahir\"),nama.index(\"Jumahir\")+1):\n",
    "    print(i , end=\"\\t\")\n",
    "    print(nim[i], end=\"\\t\")\n",
    "    print(nama[i], end=\"\\t\")\n",
    "    print(status_perkawinan[i], end=\"\\t\")\n",
    "    print(tinggi[i])"
   ]
  },
  {
   "cell_type": "code",
   "execution_count": 63,
   "id": "fe9663c8",
   "metadata": {},
   "outputs": [
    {
     "name": "stdout",
     "output_type": "stream",
     "text": [
      "2\t05\tKartika\tFalse\t165.3\n"
     ]
    }
   ],
   "source": [
    "for i in range(nama.index(\"Kartika\"),nama.index(\"Kartika\")+1):\n",
    "    print(i , end=\"\\t\")\n",
    "    print(nim[i], end=\"\\t\")\n",
    "    print(nama[i], end=\"\\t\")\n",
    "    print(status_perkawinan[i], end=\"\\t\")\n",
    "    print(tinggi[i])"
   ]
  },
  {
   "cell_type": "code",
   "execution_count": 65,
   "id": "a1fc4526",
   "metadata": {},
   "outputs": [
    {
     "name": "stdout",
     "output_type": "stream",
     "text": [
      "4\t07\tSylpie\tFalse\t150.9\n"
     ]
    }
   ],
   "source": [
    "for i in range(usia.index(33),usia.index(33)+1):\n",
    "    print(i , end=\"\\t\")\n",
    "    print(nim[i], end=\"\\t\")\n",
    "    print(nama[i], end=\"\\t\")\n",
    "    print(status_perkawinan[i], end=\"\\t\")\n",
    "    print(tinggi[i])"
   ]
  },
  {
   "cell_type": "code",
   "execution_count": 66,
   "id": "47479ae0",
   "metadata": {},
   "outputs": [
    {
     "data": {
      "text/plain": [
       "[17, 20, 25, 29, 33, 14, 16, 40, 35, 33, 27, 11]"
      ]
     },
     "execution_count": 66,
     "metadata": {},
     "output_type": "execute_result"
    }
   ],
   "source": [
    "usia"
   ]
  },
  {
   "cell_type": "code",
   "execution_count": 72,
   "id": "1e08635c",
   "metadata": {},
   "outputs": [
    {
     "name": "stdout",
     "output_type": "stream",
     "text": [
      "None\n"
     ]
    }
   ],
   "source": [
    "usia_urut = usia.sort(reverse=True)\n",
    "print(usia_urut)"
   ]
  },
  {
   "cell_type": "code",
   "execution_count": null,
   "id": "0a123fba",
   "metadata": {},
   "outputs": [],
   "source": []
  }
 ],
 "metadata": {
  "kernelspec": {
   "display_name": "Python 3 (ipykernel)",
   "language": "python",
   "name": "python3"
  },
  "language_info": {
   "codemirror_mode": {
    "name": "ipython",
    "version": 3
   },
   "file_extension": ".py",
   "mimetype": "text/x-python",
   "name": "python",
   "nbconvert_exporter": "python",
   "pygments_lexer": "ipython3",
   "version": "3.11.4"
  }
 },
 "nbformat": 4,
 "nbformat_minor": 5
}
